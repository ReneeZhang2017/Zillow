{
  "nbformat": 4,
  "nbformat_minor": 0,
  "metadata": {
    "colab": {
      "name": "Zillow data---Renee.ipynb",
      "version": "0.3.2",
      "provenance": [],
      "collapsed_sections": [
        "XenkSb41LNaA",
        "yBHz-tyCLSF2",
        "M4Tuu5GtZbxX"
      ],
      "include_colab_link": true
    },
    "kernelspec": {
      "name": "python3",
      "display_name": "Python 3"
    },
    "accelerator": "GPU"
  },
  "cells": [
    {
      "cell_type": "markdown",
      "metadata": {
        "id": "view-in-github",
        "colab_type": "text"
      },
      "source": [
        "<a href=\"https://colab.research.google.com/github/ReneeZhang2017/Zillow/blob/master/Zillow_data_Renee.ipynb\" target=\"_parent\"><img src=\"https://colab.research.google.com/assets/colab-badge.svg\" alt=\"Open In Colab\"/></a>"
      ]
    },
    {
      "metadata": {
        "id": "lkNjrilMLIFy",
        "colab_type": "text"
      },
      "cell_type": "markdown",
      "source": [
        "# Explore Zillow"
      ]
    },
    {
      "metadata": {
        "id": "XenkSb41LNaA",
        "colab_type": "text"
      },
      "cell_type": "markdown",
      "source": [
        "## Ingest"
      ]
    },
    {
      "metadata": {
        "id": "azFBbTNEI71Y",
        "colab_type": "code",
        "outputId": "f3eee70a-e0d4-48b4-9dc5-cfd894c30cdb",
        "colab": {
          "base_uri": "https://localhost:8080/",
          "height": 17
        }
      },
      "cell_type": "code",
      "source": [
        "import pandas as pd\n",
        "pd.set_option('display.float_format', lambda x: '%.3f' % x)\n",
        "import numpy as np\n",
        "import statsmodels.api as sm\n",
        "import statsmodels.formula.api as smf\n",
        "import matplotlib.pyplot as plt\n",
        "import seaborn as sns\n",
        "import seaborn as sns; sns.set(color_codes=True)\n",
        "from sklearn.cluster import KMeans\n",
        "color = sns.color_palette()\n",
        "from IPython.core.display import display, HTML\n",
        "display(HTML(\"<style>.container { width:100% !important; }</style>\"))\n",
        "%matplotlib inline"
      ],
      "execution_count": 0,
      "outputs": [
        {
          "output_type": "display_data",
          "data": {
            "text/html": [
              "<style>.container { width:100% !important; }</style>"
            ],
            "text/plain": [
              "<IPython.core.display.HTML object>"
            ]
          },
          "metadata": {
            "tags": []
          }
        }
      ]
    },
    {
      "metadata": {
        "id": "pWFsalGNI71g",
        "colab_type": "code",
        "outputId": "3618112c-0ac3-4481-898a-3fb57fa4eaff",
        "colab": {
          "base_uri": "https://localhost:8080/",
          "height": 457
        }
      },
      "cell_type": "code",
      "source": [
        "df = pd.read_csv(\"https://raw.githubusercontent.com/noahgift/real_estate_ml/master/data/Zip_Zhvi_SingleFamilyResidence_2018.csv\")\n",
        "df.head()"
      ],
      "execution_count": 0,
      "outputs": [
        {
          "output_type": "execute_result",
          "data": {
            "text/html": [
              "<div>\n",
              "<style scoped>\n",
              "    .dataframe tbody tr th:only-of-type {\n",
              "        vertical-align: middle;\n",
              "    }\n",
              "\n",
              "    .dataframe tbody tr th {\n",
              "        vertical-align: top;\n",
              "    }\n",
              "\n",
              "    .dataframe thead th {\n",
              "        text-align: right;\n",
              "    }\n",
              "</style>\n",
              "<table border=\"1\" class=\"dataframe\">\n",
              "  <thead>\n",
              "    <tr style=\"text-align: right;\">\n",
              "      <th></th>\n",
              "      <th>RegionID</th>\n",
              "      <th>RegionName</th>\n",
              "      <th>City</th>\n",
              "      <th>State</th>\n",
              "      <th>Metro</th>\n",
              "      <th>CountyName</th>\n",
              "      <th>SizeRank</th>\n",
              "      <th>1996-04</th>\n",
              "      <th>1996-05</th>\n",
              "      <th>1996-06</th>\n",
              "      <th>...</th>\n",
              "      <th>2018-03</th>\n",
              "      <th>2018-04</th>\n",
              "      <th>2018-05</th>\n",
              "      <th>2018-06</th>\n",
              "      <th>2018-07</th>\n",
              "      <th>2018-08</th>\n",
              "      <th>2018-09</th>\n",
              "      <th>2018-10</th>\n",
              "      <th>2018-11</th>\n",
              "      <th>2018-12</th>\n",
              "    </tr>\n",
              "  </thead>\n",
              "  <tbody>\n",
              "    <tr>\n",
              "      <th>0</th>\n",
              "      <td>84654</td>\n",
              "      <td>60657</td>\n",
              "      <td>Chicago</td>\n",
              "      <td>IL</td>\n",
              "      <td>Chicago-Naperville-Elgin</td>\n",
              "      <td>Cook County</td>\n",
              "      <td>1</td>\n",
              "      <td>334200.000</td>\n",
              "      <td>335400.000</td>\n",
              "      <td>336500.000</td>\n",
              "      <td>...</td>\n",
              "      <td>1037400</td>\n",
              "      <td>1038700</td>\n",
              "      <td>1041500</td>\n",
              "      <td>1042800</td>\n",
              "      <td>1042900</td>\n",
              "      <td>1044400</td>\n",
              "      <td>1047800</td>\n",
              "      <td>1049700</td>\n",
              "      <td>1048300</td>\n",
              "      <td>1047900</td>\n",
              "    </tr>\n",
              "    <tr>\n",
              "      <th>1</th>\n",
              "      <td>91982</td>\n",
              "      <td>77494</td>\n",
              "      <td>Katy</td>\n",
              "      <td>TX</td>\n",
              "      <td>Houston-The Woodlands-Sugar Land</td>\n",
              "      <td>Harris County</td>\n",
              "      <td>2</td>\n",
              "      <td>210400.000</td>\n",
              "      <td>212200.000</td>\n",
              "      <td>212200.000</td>\n",
              "      <td>...</td>\n",
              "      <td>330400</td>\n",
              "      <td>332700</td>\n",
              "      <td>334500</td>\n",
              "      <td>335900</td>\n",
              "      <td>337000</td>\n",
              "      <td>338300</td>\n",
              "      <td>338400</td>\n",
              "      <td>336900</td>\n",
              "      <td>336000</td>\n",
              "      <td>336500</td>\n",
              "    </tr>\n",
              "    <tr>\n",
              "      <th>2</th>\n",
              "      <td>84616</td>\n",
              "      <td>60614</td>\n",
              "      <td>Chicago</td>\n",
              "      <td>IL</td>\n",
              "      <td>Chicago-Naperville-Elgin</td>\n",
              "      <td>Cook County</td>\n",
              "      <td>3</td>\n",
              "      <td>498100.000</td>\n",
              "      <td>500900.000</td>\n",
              "      <td>503100.000</td>\n",
              "      <td>...</td>\n",
              "      <td>1317900</td>\n",
              "      <td>1321100</td>\n",
              "      <td>1325300</td>\n",
              "      <td>1323800</td>\n",
              "      <td>1321200</td>\n",
              "      <td>1320700</td>\n",
              "      <td>1319500</td>\n",
              "      <td>1318800</td>\n",
              "      <td>1319700</td>\n",
              "      <td>1323300</td>\n",
              "    </tr>\n",
              "    <tr>\n",
              "      <th>3</th>\n",
              "      <td>93144</td>\n",
              "      <td>79936</td>\n",
              "      <td>El Paso</td>\n",
              "      <td>TX</td>\n",
              "      <td>El Paso</td>\n",
              "      <td>El Paso County</td>\n",
              "      <td>4</td>\n",
              "      <td>77300.000</td>\n",
              "      <td>77300.000</td>\n",
              "      <td>77300.000</td>\n",
              "      <td>...</td>\n",
              "      <td>120800</td>\n",
              "      <td>121300</td>\n",
              "      <td>122200</td>\n",
              "      <td>123000</td>\n",
              "      <td>123600</td>\n",
              "      <td>124500</td>\n",
              "      <td>125600</td>\n",
              "      <td>126300</td>\n",
              "      <td>126800</td>\n",
              "      <td>127400</td>\n",
              "    </tr>\n",
              "    <tr>\n",
              "      <th>4</th>\n",
              "      <td>91940</td>\n",
              "      <td>77449</td>\n",
              "      <td>Katy</td>\n",
              "      <td>TX</td>\n",
              "      <td>Houston-The Woodlands-Sugar Land</td>\n",
              "      <td>Harris County</td>\n",
              "      <td>5</td>\n",
              "      <td>95400.000</td>\n",
              "      <td>95600.000</td>\n",
              "      <td>95800.000</td>\n",
              "      <td>...</td>\n",
              "      <td>175500</td>\n",
              "      <td>176400</td>\n",
              "      <td>176900</td>\n",
              "      <td>176900</td>\n",
              "      <td>177300</td>\n",
              "      <td>178000</td>\n",
              "      <td>178500</td>\n",
              "      <td>179300</td>\n",
              "      <td>180200</td>\n",
              "      <td>180700</td>\n",
              "    </tr>\n",
              "  </tbody>\n",
              "</table>\n",
              "<p>5 rows × 280 columns</p>\n",
              "</div>"
            ],
            "text/plain": [
              "   RegionID  RegionName     City State                             Metro  \\\n",
              "0     84654       60657  Chicago    IL          Chicago-Naperville-Elgin   \n",
              "1     91982       77494     Katy    TX  Houston-The Woodlands-Sugar Land   \n",
              "2     84616       60614  Chicago    IL          Chicago-Naperville-Elgin   \n",
              "3     93144       79936  El Paso    TX                           El Paso   \n",
              "4     91940       77449     Katy    TX  Houston-The Woodlands-Sugar Land   \n",
              "\n",
              "       CountyName  SizeRank    1996-04    1996-05    1996-06   ...     \\\n",
              "0     Cook County         1 334200.000 335400.000 336500.000   ...      \n",
              "1   Harris County         2 210400.000 212200.000 212200.000   ...      \n",
              "2     Cook County         3 498100.000 500900.000 503100.000   ...      \n",
              "3  El Paso County         4  77300.000  77300.000  77300.000   ...      \n",
              "4   Harris County         5  95400.000  95600.000  95800.000   ...      \n",
              "\n",
              "   2018-03  2018-04  2018-05  2018-06  2018-07  2018-08  2018-09  2018-10  \\\n",
              "0  1037400  1038700  1041500  1042800  1042900  1044400  1047800  1049700   \n",
              "1   330400   332700   334500   335900   337000   338300   338400   336900   \n",
              "2  1317900  1321100  1325300  1323800  1321200  1320700  1319500  1318800   \n",
              "3   120800   121300   122200   123000   123600   124500   125600   126300   \n",
              "4   175500   176400   176900   176900   177300   178000   178500   179300   \n",
              "\n",
              "   2018-11  2018-12  \n",
              "0  1048300  1047900  \n",
              "1   336000   336500  \n",
              "2  1319700  1323300  \n",
              "3   126800   127400  \n",
              "4   180200   180700  \n",
              "\n",
              "[5 rows x 280 columns]"
            ]
          },
          "metadata": {
            "tags": []
          },
          "execution_count": 8
        }
      ]
    },
    {
      "metadata": {
        "id": "yBHz-tyCLSF2",
        "colab_type": "text"
      },
      "cell_type": "markdown",
      "source": [
        "## EDA"
      ]
    },
    {
      "metadata": {
        "id": "TPtkv6MKdHYX",
        "colab_type": "code",
        "outputId": "8a9336f3-ab2c-4532-e041-a23aa95dca40",
        "colab": {
          "base_uri": "https://localhost:8080/",
          "height": 34
        }
      },
      "cell_type": "code",
      "source": [
        "df.shape"
      ],
      "execution_count": 0,
      "outputs": [
        {
          "output_type": "execute_result",
          "data": {
            "text/plain": [
              "(15508, 280)"
            ]
          },
          "metadata": {
            "tags": []
          },
          "execution_count": 38
        }
      ]
    },
    {
      "metadata": {
        "id": "8s6tfROx4q77",
        "colab_type": "code",
        "colab": {}
      },
      "cell_type": "code",
      "source": [
        "df.rename(columns={\"RegionName\":\"ZipCode\"}, inplace=True)\n",
        "df[\"ZipCode\"]=df[\"ZipCode\"].map(lambda x: \"{:.0f}\".format(x))\n",
        "df[\"RegionID\"]=df[\"RegionID\"].map(lambda x: \"{:.0f}\".format(x))\n"
      ],
      "execution_count": 0,
      "outputs": []
    },
    {
      "metadata": {
        "id": "ve6dyA8FdB5t",
        "colab_type": "code",
        "outputId": "28ae5c08-0b16-4a86-832e-98d514837e03",
        "colab": {
          "base_uri": "https://localhost:8080/",
          "height": 346
        }
      },
      "cell_type": "code",
      "source": [
        "df.describe()"
      ],
      "execution_count": 0,
      "outputs": [
        {
          "output_type": "execute_result",
          "data": {
            "text/html": [
              "<div>\n",
              "<style scoped>\n",
              "    .dataframe tbody tr th:only-of-type {\n",
              "        vertical-align: middle;\n",
              "    }\n",
              "\n",
              "    .dataframe tbody tr th {\n",
              "        vertical-align: top;\n",
              "    }\n",
              "\n",
              "    .dataframe thead th {\n",
              "        text-align: right;\n",
              "    }\n",
              "</style>\n",
              "<table border=\"1\" class=\"dataframe\">\n",
              "  <thead>\n",
              "    <tr style=\"text-align: right;\">\n",
              "      <th></th>\n",
              "      <th>SizeRank</th>\n",
              "      <th>1996-04</th>\n",
              "      <th>1996-05</th>\n",
              "      <th>1996-06</th>\n",
              "      <th>1996-07</th>\n",
              "      <th>1996-08</th>\n",
              "      <th>1996-09</th>\n",
              "      <th>1996-10</th>\n",
              "      <th>1996-11</th>\n",
              "      <th>1996-12</th>\n",
              "      <th>...</th>\n",
              "      <th>2018-03</th>\n",
              "      <th>2018-04</th>\n",
              "      <th>2018-05</th>\n",
              "      <th>2018-06</th>\n",
              "      <th>2018-07</th>\n",
              "      <th>2018-08</th>\n",
              "      <th>2018-09</th>\n",
              "      <th>2018-10</th>\n",
              "      <th>2018-11</th>\n",
              "      <th>2018-12</th>\n",
              "    </tr>\n",
              "  </thead>\n",
              "  <tbody>\n",
              "    <tr>\n",
              "      <th>count</th>\n",
              "      <td>15508.000</td>\n",
              "      <td>14338.000</td>\n",
              "      <td>14338.000</td>\n",
              "      <td>14338.000</td>\n",
              "      <td>14338.000</td>\n",
              "      <td>14338.000</td>\n",
              "      <td>14338.000</td>\n",
              "      <td>14338.000</td>\n",
              "      <td>14338.000</td>\n",
              "      <td>14338.000</td>\n",
              "      <td>...</td>\n",
              "      <td>15508.000</td>\n",
              "      <td>15508.000</td>\n",
              "      <td>15508.000</td>\n",
              "      <td>15508.000</td>\n",
              "      <td>15508.000</td>\n",
              "      <td>15508.000</td>\n",
              "      <td>15508.000</td>\n",
              "      <td>15508.000</td>\n",
              "      <td>15508.000</td>\n",
              "      <td>15508.000</td>\n",
              "    </tr>\n",
              "    <tr>\n",
              "      <th>mean</th>\n",
              "      <td>7754.500</td>\n",
              "      <td>115889.866</td>\n",
              "      <td>116007.379</td>\n",
              "      <td>116123.051</td>\n",
              "      <td>116235.493</td>\n",
              "      <td>116358.920</td>\n",
              "      <td>116501.681</td>\n",
              "      <td>116689.315</td>\n",
              "      <td>116907.581</td>\n",
              "      <td>117238.332</td>\n",
              "      <td>...</td>\n",
              "      <td>279359.582</td>\n",
              "      <td>280672.685</td>\n",
              "      <td>282148.749</td>\n",
              "      <td>283446.447</td>\n",
              "      <td>284466.282</td>\n",
              "      <td>285500.200</td>\n",
              "      <td>286717.307</td>\n",
              "      <td>288029.320</td>\n",
              "      <td>289187.510</td>\n",
              "      <td>290106.635</td>\n",
              "    </tr>\n",
              "    <tr>\n",
              "      <th>std</th>\n",
              "      <td>4476.918</td>\n",
              "      <td>85115.825</td>\n",
              "      <td>85264.209</td>\n",
              "      <td>85413.118</td>\n",
              "      <td>85566.676</td>\n",
              "      <td>85744.243</td>\n",
              "      <td>85958.867</td>\n",
              "      <td>86230.630</td>\n",
              "      <td>86549.402</td>\n",
              "      <td>86971.783</td>\n",
              "      <td>...</td>\n",
              "      <td>361868.364</td>\n",
              "      <td>361360.576</td>\n",
              "      <td>363102.089</td>\n",
              "      <td>365301.815</td>\n",
              "      <td>366277.876</td>\n",
              "      <td>367095.613</td>\n",
              "      <td>366772.521</td>\n",
              "      <td>364624.171</td>\n",
              "      <td>361143.146</td>\n",
              "      <td>359132.687</td>\n",
              "    </tr>\n",
              "    <tr>\n",
              "      <th>min</th>\n",
              "      <td>1.000</td>\n",
              "      <td>11300.000</td>\n",
              "      <td>11500.000</td>\n",
              "      <td>11600.000</td>\n",
              "      <td>11800.000</td>\n",
              "      <td>11800.000</td>\n",
              "      <td>12000.000</td>\n",
              "      <td>12100.000</td>\n",
              "      <td>12200.000</td>\n",
              "      <td>12300.000</td>\n",
              "      <td>...</td>\n",
              "      <td>21700.000</td>\n",
              "      <td>21700.000</td>\n",
              "      <td>22100.000</td>\n",
              "      <td>22200.000</td>\n",
              "      <td>22000.000</td>\n",
              "      <td>21800.000</td>\n",
              "      <td>21700.000</td>\n",
              "      <td>21500.000</td>\n",
              "      <td>21600.000</td>\n",
              "      <td>21900.000</td>\n",
              "    </tr>\n",
              "    <tr>\n",
              "      <th>25%</th>\n",
              "      <td>3877.750</td>\n",
              "      <td>66700.000</td>\n",
              "      <td>66800.000</td>\n",
              "      <td>66925.000</td>\n",
              "      <td>67100.000</td>\n",
              "      <td>67200.000</td>\n",
              "      <td>67300.000</td>\n",
              "      <td>67500.000</td>\n",
              "      <td>67600.000</td>\n",
              "      <td>67900.000</td>\n",
              "      <td>...</td>\n",
              "      <td>128300.000</td>\n",
              "      <td>128800.000</td>\n",
              "      <td>129675.000</td>\n",
              "      <td>130300.000</td>\n",
              "      <td>131100.000</td>\n",
              "      <td>131900.000</td>\n",
              "      <td>132900.000</td>\n",
              "      <td>134000.000</td>\n",
              "      <td>135100.000</td>\n",
              "      <td>135600.000</td>\n",
              "    </tr>\n",
              "    <tr>\n",
              "      <th>50%</th>\n",
              "      <td>7754.500</td>\n",
              "      <td>96500.000</td>\n",
              "      <td>96700.000</td>\n",
              "      <td>96750.000</td>\n",
              "      <td>96900.000</td>\n",
              "      <td>96900.000</td>\n",
              "      <td>97000.000</td>\n",
              "      <td>97150.000</td>\n",
              "      <td>97400.000</td>\n",
              "      <td>97550.000</td>\n",
              "      <td>...</td>\n",
              "      <td>191100.000</td>\n",
              "      <td>192150.000</td>\n",
              "      <td>193400.000</td>\n",
              "      <td>194600.000</td>\n",
              "      <td>195700.000</td>\n",
              "      <td>196900.000</td>\n",
              "      <td>198100.000</td>\n",
              "      <td>199600.000</td>\n",
              "      <td>201100.000</td>\n",
              "      <td>202150.000</td>\n",
              "    </tr>\n",
              "    <tr>\n",
              "      <th>75%</th>\n",
              "      <td>11631.250</td>\n",
              "      <td>140500.000</td>\n",
              "      <td>140600.000</td>\n",
              "      <td>140600.000</td>\n",
              "      <td>140800.000</td>\n",
              "      <td>141000.000</td>\n",
              "      <td>141100.000</td>\n",
              "      <td>141300.000</td>\n",
              "      <td>141400.000</td>\n",
              "      <td>141700.000</td>\n",
              "      <td>...</td>\n",
              "      <td>310750.000</td>\n",
              "      <td>312300.000</td>\n",
              "      <td>314325.000</td>\n",
              "      <td>316100.000</td>\n",
              "      <td>317425.000</td>\n",
              "      <td>318325.000</td>\n",
              "      <td>319800.000</td>\n",
              "      <td>321200.000</td>\n",
              "      <td>322425.000</td>\n",
              "      <td>323900.000</td>\n",
              "    </tr>\n",
              "    <tr>\n",
              "      <th>max</th>\n",
              "      <td>15508.000</td>\n",
              "      <td>3676700.000</td>\n",
              "      <td>3704200.000</td>\n",
              "      <td>3729600.000</td>\n",
              "      <td>3754600.000</td>\n",
              "      <td>3781800.000</td>\n",
              "      <td>3813500.000</td>\n",
              "      <td>3849600.000</td>\n",
              "      <td>3888900.000</td>\n",
              "      <td>3928800.000</td>\n",
              "      <td>...</td>\n",
              "      <td>17724700.000</td>\n",
              "      <td>17408900.000</td>\n",
              "      <td>17450500.000</td>\n",
              "      <td>17722800.000</td>\n",
              "      <td>18006700.000</td>\n",
              "      <td>18273800.000</td>\n",
              "      <td>18331900.000</td>\n",
              "      <td>18131900.000</td>\n",
              "      <td>17594900.000</td>\n",
              "      <td>17119600.000</td>\n",
              "    </tr>\n",
              "  </tbody>\n",
              "</table>\n",
              "<p>8 rows × 274 columns</p>\n",
              "</div>"
            ],
            "text/plain": [
              "       SizeRank     1996-04     1996-05     1996-06     1996-07     1996-08  \\\n",
              "count 15508.000   14338.000   14338.000   14338.000   14338.000   14338.000   \n",
              "mean   7754.500  115889.866  116007.379  116123.051  116235.493  116358.920   \n",
              "std    4476.918   85115.825   85264.209   85413.118   85566.676   85744.243   \n",
              "min       1.000   11300.000   11500.000   11600.000   11800.000   11800.000   \n",
              "25%    3877.750   66700.000   66800.000   66925.000   67100.000   67200.000   \n",
              "50%    7754.500   96500.000   96700.000   96750.000   96900.000   96900.000   \n",
              "75%   11631.250  140500.000  140600.000  140600.000  140800.000  141000.000   \n",
              "max   15508.000 3676700.000 3704200.000 3729600.000 3754600.000 3781800.000   \n",
              "\n",
              "          1996-09     1996-10     1996-11     1996-12     ...       \\\n",
              "count   14338.000   14338.000   14338.000   14338.000     ...        \n",
              "mean   116501.681  116689.315  116907.581  117238.332     ...        \n",
              "std     85958.867   86230.630   86549.402   86971.783     ...        \n",
              "min     12000.000   12100.000   12200.000   12300.000     ...        \n",
              "25%     67300.000   67500.000   67600.000   67900.000     ...        \n",
              "50%     97000.000   97150.000   97400.000   97550.000     ...        \n",
              "75%    141100.000  141300.000  141400.000  141700.000     ...        \n",
              "max   3813500.000 3849600.000 3888900.000 3928800.000     ...        \n",
              "\n",
              "           2018-03      2018-04      2018-05      2018-06      2018-07  \\\n",
              "count    15508.000    15508.000    15508.000    15508.000    15508.000   \n",
              "mean    279359.582   280672.685   282148.749   283446.447   284466.282   \n",
              "std     361868.364   361360.576   363102.089   365301.815   366277.876   \n",
              "min      21700.000    21700.000    22100.000    22200.000    22000.000   \n",
              "25%     128300.000   128800.000   129675.000   130300.000   131100.000   \n",
              "50%     191100.000   192150.000   193400.000   194600.000   195700.000   \n",
              "75%     310750.000   312300.000   314325.000   316100.000   317425.000   \n",
              "max   17724700.000 17408900.000 17450500.000 17722800.000 18006700.000   \n",
              "\n",
              "           2018-08      2018-09      2018-10      2018-11      2018-12  \n",
              "count    15508.000    15508.000    15508.000    15508.000    15508.000  \n",
              "mean    285500.200   286717.307   288029.320   289187.510   290106.635  \n",
              "std     367095.613   366772.521   364624.171   361143.146   359132.687  \n",
              "min      21800.000    21700.000    21500.000    21600.000    21900.000  \n",
              "25%     131900.000   132900.000   134000.000   135100.000   135600.000  \n",
              "50%     196900.000   198100.000   199600.000   201100.000   202150.000  \n",
              "75%     318325.000   319800.000   321200.000   322425.000   323900.000  \n",
              "max   18273800.000 18331900.000 18131900.000 17594900.000 17119600.000  \n",
              "\n",
              "[8 rows x 274 columns]"
            ]
          },
          "metadata": {
            "tags": []
          },
          "execution_count": 40
        }
      ]
    },
    {
      "metadata": {
        "id": "9Zp7PbLn_Rn7",
        "colab_type": "text"
      },
      "cell_type": "markdown",
      "source": [
        "### 1. Visualize median price of San Francisco, Chicago, New York and median price of USA through the time"
      ]
    },
    {
      "metadata": {
        "id": "RqzPnIu5I71t",
        "colab_type": "code",
        "outputId": "0e1b11a8-b491-4458-f05c-a95e6154bd82",
        "colab": {
          "base_uri": "https://localhost:8080/",
          "height": 119
        }
      },
      "cell_type": "code",
      "source": [
        "median_prices = df.median()\n",
        "median_prices.tail()\n"
      ],
      "execution_count": 0,
      "outputs": [
        {
          "output_type": "execute_result",
          "data": {
            "text/plain": [
              "2018-08   196900.000\n",
              "2018-09   198100.000\n",
              "2018-10   199600.000\n",
              "2018-11   201100.000\n",
              "2018-12   202150.000\n",
              "dtype: float64"
            ]
          },
          "metadata": {
            "tags": []
          },
          "execution_count": 10
        }
      ]
    },
    {
      "metadata": {
        "id": "pBfbTmQmI710",
        "colab_type": "code",
        "outputId": "2d5ca3e5-495d-4d9c-e043-b2655ce2ec5d",
        "colab": {
          "base_uri": "https://localhost:8080/",
          "height": 204
        }
      },
      "cell_type": "code",
      "source": [
        "sf_df = df[df[\"City\"] == \"San Francisco\"].median()\n",
        "ch_df = df[df[\"City\"] == \"Chicago\"].median()\n",
        "ny_df = df[df[\"City\"] == \"New York\"].median()\n",
        "df_comparison = pd.concat([sf_df,ch_df,ny_df,median_prices], axis=1)\n",
        "df_comparison.columns = [\"San Francisco\",\"Chiacago\",\"New York\",\"Median USA\"]\n",
        "df_comparison.tail()\n"
      ],
      "execution_count": 0,
      "outputs": [
        {
          "output_type": "execute_result",
          "data": {
            "text/html": [
              "<div>\n",
              "<style scoped>\n",
              "    .dataframe tbody tr th:only-of-type {\n",
              "        vertical-align: middle;\n",
              "    }\n",
              "\n",
              "    .dataframe tbody tr th {\n",
              "        vertical-align: top;\n",
              "    }\n",
              "\n",
              "    .dataframe thead th {\n",
              "        text-align: right;\n",
              "    }\n",
              "</style>\n",
              "<table border=\"1\" class=\"dataframe\">\n",
              "  <thead>\n",
              "    <tr style=\"text-align: right;\">\n",
              "      <th></th>\n",
              "      <th>San Francisco</th>\n",
              "      <th>Chiacago</th>\n",
              "      <th>New York</th>\n",
              "      <th>Median USA</th>\n",
              "    </tr>\n",
              "  </thead>\n",
              "  <tbody>\n",
              "    <tr>\n",
              "      <th>2018-08</th>\n",
              "      <td>1828600.000</td>\n",
              "      <td>354850.000</td>\n",
              "      <td>756500.000</td>\n",
              "      <td>196900.000</td>\n",
              "    </tr>\n",
              "    <tr>\n",
              "      <th>2018-09</th>\n",
              "      <td>1823200.000</td>\n",
              "      <td>353800.000</td>\n",
              "      <td>752650.000</td>\n",
              "      <td>198100.000</td>\n",
              "    </tr>\n",
              "    <tr>\n",
              "      <th>2018-10</th>\n",
              "      <td>1823700.000</td>\n",
              "      <td>352900.000</td>\n",
              "      <td>753250.000</td>\n",
              "      <td>199600.000</td>\n",
              "    </tr>\n",
              "    <tr>\n",
              "      <th>2018-11</th>\n",
              "      <td>1813400.000</td>\n",
              "      <td>351600.000</td>\n",
              "      <td>758100.000</td>\n",
              "      <td>201100.000</td>\n",
              "    </tr>\n",
              "    <tr>\n",
              "      <th>2018-12</th>\n",
              "      <td>1806000.000</td>\n",
              "      <td>351150.000</td>\n",
              "      <td>758550.000</td>\n",
              "      <td>202150.000</td>\n",
              "    </tr>\n",
              "  </tbody>\n",
              "</table>\n",
              "</div>"
            ],
            "text/plain": [
              "         San Francisco   Chiacago   New York  Median USA\n",
              "2018-08    1828600.000 354850.000 756500.000  196900.000\n",
              "2018-09    1823200.000 353800.000 752650.000  198100.000\n",
              "2018-10    1823700.000 352900.000 753250.000  199600.000\n",
              "2018-11    1813400.000 351600.000 758100.000  201100.000\n",
              "2018-12    1806000.000 351150.000 758550.000  202150.000"
            ]
          },
          "metadata": {
            "tags": []
          },
          "execution_count": 11
        }
      ]
    },
    {
      "metadata": {
        "id": "fFjWVlDhWlxp",
        "colab_type": "code",
        "colab": {}
      },
      "cell_type": "code",
      "source": [
        "!pip uninstall -q -y plotly\n",
        "!pip install -q plotly\n",
        "!pip install -q --upgrade cufflinks"
      ],
      "execution_count": 0,
      "outputs": []
    },
    {
      "metadata": {
        "id": "swf-Qh07J6ca",
        "colab_type": "code",
        "colab": {}
      },
      "cell_type": "code",
      "source": [
        "def enable_plotly_in_cell():\n",
        "  import IPython\n",
        "  from plotly.offline import init_notebook_mode\n",
        "  display(IPython.core.display.HTML('''\n",
        "        <script src=\"/static/components/requirejs/require.js\"></script>\n",
        "  '''))\n",
        "  init_notebook_mode(connected=False)"
      ],
      "execution_count": 0,
      "outputs": []
    },
    {
      "metadata": {
        "id": "xUyl5VIqI713",
        "colab_type": "code",
        "colab": {}
      },
      "cell_type": "code",
      "source": [
        "from plotly.offline import init_notebook_mode\n",
        "enable_plotly_in_cell()\n",
        "init_notebook_mode(connected=False)\n",
        "\n",
        "import cufflinks as cf\n",
        "cf.go_offline()\n",
        "df_comparison.iplot(title=\"Bay Area Median Single Family Home Prices 1996-2018\",\n",
        "                    xTitle=\"Year\",\n",
        "                    yTitle=\"Sales Price\",\n",
        "                    bestfit=True, bestfit_colors=[\"pink\"],\n",
        "                   #subplots=True,\n",
        "                   shape=(4,1),\n",
        "                    #subplot_titles=True,\n",
        "                    fill=True,)"
      ],
      "execution_count": 0,
      "outputs": []
    },
    {
      "metadata": {
        "id": "05nd4sSwCsIv",
        "colab_type": "text"
      },
      "cell_type": "markdown",
      "source": [
        "### 2. Visualize the relationship between size rank and sales price on 2018-01"
      ]
    },
    {
      "metadata": {
        "id": "Sc0p_k-UCrUL",
        "colab_type": "code",
        "outputId": "2bbba960-422d-453e-e47a-a0c98e64d4d8",
        "colab": {
          "base_uri": "https://localhost:8080/",
          "height": 204
        }
      },
      "cell_type": "code",
      "source": [
        "df_size=df[(df[\"City\"] == \"San Francisco\") | (df[\"City\"] ==\"Chicago\")|(df[\"City\"]==\"New York\")]\n",
        "price_2018=df_size[\"2018-01\"]\n",
        "df_vs = pd.concat([df_size[\"City\"],df_size[\"SizeRank\"],price_2018,], axis=1)\n",
        "df_vs.head(5)"
      ],
      "execution_count": 0,
      "outputs": [
        {
          "output_type": "execute_result",
          "data": {
            "text/html": [
              "<div>\n",
              "<style scoped>\n",
              "    .dataframe tbody tr th:only-of-type {\n",
              "        vertical-align: middle;\n",
              "    }\n",
              "\n",
              "    .dataframe tbody tr th {\n",
              "        vertical-align: top;\n",
              "    }\n",
              "\n",
              "    .dataframe thead th {\n",
              "        text-align: right;\n",
              "    }\n",
              "</style>\n",
              "<table border=\"1\" class=\"dataframe\">\n",
              "  <thead>\n",
              "    <tr style=\"text-align: right;\">\n",
              "      <th></th>\n",
              "      <th>City</th>\n",
              "      <th>SizeRank</th>\n",
              "      <th>2018-01</th>\n",
              "    </tr>\n",
              "  </thead>\n",
              "  <tbody>\n",
              "    <tr>\n",
              "      <th>0</th>\n",
              "      <td>Chicago</td>\n",
              "      <td>1</td>\n",
              "      <td>1028900</td>\n",
              "    </tr>\n",
              "    <tr>\n",
              "      <th>2</th>\n",
              "      <td>Chicago</td>\n",
              "      <td>3</td>\n",
              "      <td>1310100</td>\n",
              "    </tr>\n",
              "    <tr>\n",
              "      <th>6</th>\n",
              "      <td>New York</td>\n",
              "      <td>7</td>\n",
              "      <td>413100</td>\n",
              "    </tr>\n",
              "    <tr>\n",
              "      <th>7</th>\n",
              "      <td>Chicago</td>\n",
              "      <td>8</td>\n",
              "      <td>782500</td>\n",
              "    </tr>\n",
              "    <tr>\n",
              "      <th>8</th>\n",
              "      <td>New York</td>\n",
              "      <td>9</td>\n",
              "      <td>894600</td>\n",
              "    </tr>\n",
              "  </tbody>\n",
              "</table>\n",
              "</div>"
            ],
            "text/plain": [
              "       City  SizeRank  2018-01\n",
              "0   Chicago         1  1028900\n",
              "2   Chicago         3  1310100\n",
              "6  New York         7   413100\n",
              "7   Chicago         8   782500\n",
              "8  New York         9   894600"
            ]
          },
          "metadata": {
            "tags": []
          },
          "execution_count": 17
        }
      ]
    },
    {
      "metadata": {
        "id": "4Ybi-wAqOCTA",
        "colab_type": "code",
        "outputId": "3fc41ebe-a980-467d-97a7-9a0ee1773b03",
        "colab": {
          "base_uri": "https://localhost:8080/",
          "height": 225
        }
      },
      "cell_type": "code",
      "source": [
        "g = sns.FacetGrid(df_vs, col=\"City\")\n",
        "g = (g.map(plt.scatter,\"SizeRank\", \"2018-01\",marker='^',color=\"green\")\n",
        "       .add_legend())"
      ],
      "execution_count": 0,
      "outputs": [
        {
          "output_type": "display_data",
          "data": {
            "image/png": "[encoded data removed]",
            "text/plain": [
              "<Figure size 656x216 with 3 Axes>"
            ]
          },
          "metadata": {
            "tags": []
          }
        }
      ]
    },
    {
      "metadata": {
        "id": "MZayYCocPZsj",
        "colab_type": "text"
      },
      "cell_type": "markdown",
      "source": [
        "### 3. Visualize the relationship between higest 15 States and Price"
      ]
    },
    {
      "metadata": {
        "id": "9Tc2LVDLYU2v",
        "colab_type": "code",
        "outputId": "147e5284-9763-46cf-9853-cd08ce06c028",
        "colab": {
          "base_uri": "https://localhost:8080/",
          "height": 282
        }
      },
      "cell_type": "code",
      "source": [
        "x = df.groupby('State')['2018-01'].median().sort_values().tail(15)\n",
        "x.plot(kind='barh')"
      ],
      "execution_count": 0,
      "outputs": [
        {
          "output_type": "execute_result",
          "data": {
            "text/plain": [
              "<matplotlib.axes._subplots.AxesSubplot at 0x7f4a125872b0>"
            ]
          },
          "metadata": {
            "tags": []
          },
          "execution_count": 19
        },
        {
          "output_type": "display_data",
          "data": {
            "image/png": "[encoded data removed]",
            "text/plain": [
              "<Figure size 432x288 with 1 Axes>"
            ]
          },
          "metadata": {
            "tags": []
          }
        }
      ]
    },
    {
      "metadata": {
        "id": "5_RC1GcdbjHc",
        "colab_type": "text"
      },
      "cell_type": "markdown",
      "source": [
        "### 4. Visualize the relationship between appreciation rate and state in most recent 5 years"
      ]
    },
    {
      "metadata": {
        "id": "-33z9OObeekl",
        "colab_type": "code",
        "outputId": "1c989b77-85f5-44de-fb78-3d07f4add9c2",
        "colab": {
          "base_uri": "https://localhost:8080/",
          "height": 204
        }
      },
      "cell_type": "code",
      "source": [
        "df_4=pd.concat([df[\"State\"],df[\"City\"]], axis=1)\n",
        "df_4['2014']=round(df[\"2014-12\"]/df[\"2014-01\"],2)\n",
        "df_4['2015']=round(df[\"2015-12\"]/df[\"2015-01\"],2)\n",
        "df_4['2016']=round(df[\"2016-12\"]/df[\"2016-01\"],2)\n",
        "df_4['2017']=round(df[\"2017-12\"]/df[\"2017-01\"],2)\n",
        "df_4['2018']=round(df[\"2018-12\"]/df[\"2018-01\"],2)\n",
        "df_4=df_4.drop(columns=[\"State\"],axis=1)\n",
        "sf= df_4[df_4[\"City\"] == \"San Francisco\"].median()\n",
        "ch= df_4[df_4[\"City\"] == \"Chicago\"].median()\n",
        "ny= df_4[df_4[\"City\"] == \"New York\"].median()\n",
        "df_c = pd.concat([sf,ch,ny], axis=1)\n",
        "df_c.columns = [\"San Francisco\",\"Chicago\",\"New York\"]\n",
        "df_c"
      ],
      "execution_count": 0,
      "outputs": [
        {
          "output_type": "execute_result",
          "data": {
            "text/html": [
              "<div>\n",
              "<style scoped>\n",
              "    .dataframe tbody tr th:only-of-type {\n",
              "        vertical-align: middle;\n",
              "    }\n",
              "\n",
              "    .dataframe tbody tr th {\n",
              "        vertical-align: top;\n",
              "    }\n",
              "\n",
              "    .dataframe thead th {\n",
              "        text-align: right;\n",
              "    }\n",
              "</style>\n",
              "<table border=\"1\" class=\"dataframe\">\n",
              "  <thead>\n",
              "    <tr style=\"text-align: right;\">\n",
              "      <th></th>\n",
              "      <th>San Francisco</th>\n",
              "      <th>Chicago</th>\n",
              "      <th>New York</th>\n",
              "    </tr>\n",
              "  </thead>\n",
              "  <tbody>\n",
              "    <tr>\n",
              "      <th>2014</th>\n",
              "      <td>1.140</td>\n",
              "      <td>1.050</td>\n",
              "      <td>1.080</td>\n",
              "    </tr>\n",
              "    <tr>\n",
              "      <th>2015</th>\n",
              "      <td>1.110</td>\n",
              "      <td>1.055</td>\n",
              "      <td>1.075</td>\n",
              "    </tr>\n",
              "    <tr>\n",
              "      <th>2016</th>\n",
              "      <td>1.030</td>\n",
              "      <td>1.065</td>\n",
              "      <td>1.070</td>\n",
              "    </tr>\n",
              "    <tr>\n",
              "      <th>2017</th>\n",
              "      <td>1.080</td>\n",
              "      <td>1.040</td>\n",
              "      <td>1.060</td>\n",
              "    </tr>\n",
              "    <tr>\n",
              "      <th>2018</th>\n",
              "      <td>1.060</td>\n",
              "      <td>1.015</td>\n",
              "      <td>1.060</td>\n",
              "    </tr>\n",
              "  </tbody>\n",
              "</table>\n",
              "</div>"
            ],
            "text/plain": [
              "      San Francisco  Chicago  New York\n",
              "2014          1.140    1.050     1.080\n",
              "2015          1.110    1.055     1.075\n",
              "2016          1.030    1.065     1.070\n",
              "2017          1.080    1.040     1.060\n",
              "2018          1.060    1.015     1.060"
            ]
          },
          "metadata": {
            "tags": []
          },
          "execution_count": 72
        }
      ]
    },
    {
      "metadata": {
        "id": "ev1NcJxV_b6I",
        "colab_type": "code",
        "outputId": "7c2541a5-fce8-4d42-f1c8-80ce9f4c2362",
        "colab": {
          "base_uri": "https://localhost:8080/",
          "height": 294
        }
      },
      "cell_type": "code",
      "source": [
        "fig = plt.figure()\n",
        "ax = plt.axes()\n",
        "plt.plot(df_c[\"San Francisco\"],linestyle='-.',label='San Francisco')\n",
        "plt.plot(df_c[\"Chicago\"],marker=\".\",label='Chicago')\n",
        "plt.plot(df_c[\"New York\"],linestyle=':',label='New York')\n",
        "plt.legend()\n",
        "plt.title(\"Appreciate rate in most recent 5 Years\")\n",
        "plt.xlabel(\"Year\")\n",
        "plt.ylabel(\"Appreciate Rate\");"
      ],
      "execution_count": 0,
      "outputs": [
        {
          "output_type": "display_data",
          "data": {
            "image/png": "[encoded data removed]",
            "text/plain": [
              "<Figure size 432x288 with 1 Axes>"
            ]
          },
          "metadata": {
            "tags": []
          }
        }
      ]
    },
    {
      "metadata": {
        "id": "SXv3uSzFZWf7",
        "colab_type": "text"
      },
      "cell_type": "markdown",
      "source": [
        "## Modeling\n",
        "\n"
      ]
    },
    {
      "metadata": {
        "id": "Xfbc0xEgJJuj",
        "colab_type": "text"
      },
      "cell_type": "markdown",
      "source": [
        "\n",
        "\n",
        "*   Create a time series forecast\n",
        "*   Find a second model using traditional machine learning (can also find 3rd party data)\n",
        "*   Nice to have (create a sophisticated prediction):  https://www.kaggle.com/c/house-prices-advanced-regression-techniques\n",
        "\n"
      ]
    },
    {
      "metadata": {
        "id": "LLfOVQUl2P1r",
        "colab_type": "text"
      },
      "cell_type": "markdown",
      "source": [
        "### Time series forecast---ARIMA model"
      ]
    },
    {
      "metadata": {
        "id": "kOu7rzHpEt61",
        "colab_type": "code",
        "colab": {}
      },
      "cell_type": "code",
      "source": [
        "from statsmodels.tsa.arima_model import ARIMA "
      ],
      "execution_count": 0,
      "outputs": []
    },
    {
      "metadata": {
        "id": "BKWNLSMzKmED",
        "colab_type": "code",
        "colab": {}
      },
      "cell_type": "code",
      "source": [
        "df_comparison=df_comparison.reset_index()\n",
        "df_comparison=df_comparison.drop([0,1,2],axis=0)"
      ],
      "execution_count": 0,
      "outputs": []
    },
    {
      "metadata": {
        "id": "0JrYCBZ9LVsY",
        "colab_type": "code",
        "outputId": "ff83d759-79be-4b48-9b1d-ff3035e3a468",
        "colab": {
          "base_uri": "https://localhost:8080/",
          "height": 204
        }
      },
      "cell_type": "code",
      "source": [
        "df_comparison.columns=[\"Date\",\"San Francisco\",\"Chicago\",\"New York\",\"Median USA\"]\n",
        "df_comparison=df_comparison.reset_index(drop=True)\n",
        "df_comparison=df_comparison.drop(columns=[\"San Francisco\",\"Chicago\",\"New York\"],axis=1)\n",
        "df_comparison.head()"
      ],
      "execution_count": 0,
      "outputs": [
        {
          "output_type": "execute_result",
          "data": {
            "text/html": [
              "<div>\n",
              "<style scoped>\n",
              "    .dataframe tbody tr th:only-of-type {\n",
              "        vertical-align: middle;\n",
              "    }\n",
              "\n",
              "    .dataframe tbody tr th {\n",
              "        vertical-align: top;\n",
              "    }\n",
              "\n",
              "    .dataframe thead th {\n",
              "        text-align: right;\n",
              "    }\n",
              "</style>\n",
              "<table border=\"1\" class=\"dataframe\">\n",
              "  <thead>\n",
              "    <tr style=\"text-align: right;\">\n",
              "      <th></th>\n",
              "      <th>Date</th>\n",
              "      <th>Median USA</th>\n",
              "    </tr>\n",
              "  </thead>\n",
              "  <tbody>\n",
              "    <tr>\n",
              "      <th>0</th>\n",
              "      <td>1996-04</td>\n",
              "      <td>96500.000</td>\n",
              "    </tr>\n",
              "    <tr>\n",
              "      <th>1</th>\n",
              "      <td>1996-05</td>\n",
              "      <td>96700.000</td>\n",
              "    </tr>\n",
              "    <tr>\n",
              "      <th>2</th>\n",
              "      <td>1996-06</td>\n",
              "      <td>96750.000</td>\n",
              "    </tr>\n",
              "    <tr>\n",
              "      <th>3</th>\n",
              "      <td>1996-07</td>\n",
              "      <td>96900.000</td>\n",
              "    </tr>\n",
              "    <tr>\n",
              "      <th>4</th>\n",
              "      <td>1996-08</td>\n",
              "      <td>96900.000</td>\n",
              "    </tr>\n",
              "  </tbody>\n",
              "</table>\n",
              "</div>"
            ],
            "text/plain": [
              "      Date  Median USA\n",
              "0  1996-04   96500.000\n",
              "1  1996-05   96700.000\n",
              "2  1996-06   96750.000\n",
              "3  1996-07   96900.000\n",
              "4  1996-08   96900.000"
            ]
          },
          "metadata": {
            "tags": []
          },
          "execution_count": 14
        }
      ]
    },
    {
      "metadata": {
        "id": "ovXQl63hN4SH",
        "colab_type": "code",
        "outputId": "fe09a7c7-98ac-4ad4-911b-ac901fc1c443",
        "colab": {
          "base_uri": "https://localhost:8080/",
          "height": 235
        }
      },
      "cell_type": "code",
      "source": [
        "df_comparison[\"Date\"]=pd.to_datetime(df_comparison[\"Date\"],infer_datetime_format=True)\n",
        "dataset=df_comparison.set_index([\"Date\"])\n",
        "dataset.head()"
      ],
      "execution_count": 0,
      "outputs": [
        {
          "output_type": "execute_result",
          "data": {
            "text/html": [
              "<div>\n",
              "<style scoped>\n",
              "    .dataframe tbody tr th:only-of-type {\n",
              "        vertical-align: middle;\n",
              "    }\n",
              "\n",
              "    .dataframe tbody tr th {\n",
              "        vertical-align: top;\n",
              "    }\n",
              "\n",
              "    .dataframe thead th {\n",
              "        text-align: right;\n",
              "    }\n",
              "</style>\n",
              "<table border=\"1\" class=\"dataframe\">\n",
              "  <thead>\n",
              "    <tr style=\"text-align: right;\">\n",
              "      <th></th>\n",
              "      <th>Median USA</th>\n",
              "    </tr>\n",
              "    <tr>\n",
              "      <th>Date</th>\n",
              "      <th></th>\n",
              "    </tr>\n",
              "  </thead>\n",
              "  <tbody>\n",
              "    <tr>\n",
              "      <th>1996-04-01</th>\n",
              "      <td>96500.000</td>\n",
              "    </tr>\n",
              "    <tr>\n",
              "      <th>1996-05-01</th>\n",
              "      <td>96700.000</td>\n",
              "    </tr>\n",
              "    <tr>\n",
              "      <th>1996-06-01</th>\n",
              "      <td>96750.000</td>\n",
              "    </tr>\n",
              "    <tr>\n",
              "      <th>1996-07-01</th>\n",
              "      <td>96900.000</td>\n",
              "    </tr>\n",
              "    <tr>\n",
              "      <th>1996-08-01</th>\n",
              "      <td>96900.000</td>\n",
              "    </tr>\n",
              "  </tbody>\n",
              "</table>\n",
              "</div>"
            ],
            "text/plain": [
              "            Median USA\n",
              "Date                  \n",
              "1996-04-01   96500.000\n",
              "1996-05-01   96700.000\n",
              "1996-06-01   96750.000\n",
              "1996-07-01   96900.000\n",
              "1996-08-01   96900.000"
            ]
          },
          "metadata": {
            "tags": []
          },
          "execution_count": 15
        }
      ]
    },
    {
      "metadata": {
        "id": "IrgfXHkSOzfb",
        "colab_type": "code",
        "outputId": "ba35d3bb-a4aa-4dc5-f570-0159cd1dd34f",
        "colab": {
          "base_uri": "https://localhost:8080/",
          "height": 34
        }
      },
      "cell_type": "code",
      "source": [
        "dataset.shape"
      ],
      "execution_count": 0,
      "outputs": [
        {
          "output_type": "execute_result",
          "data": {
            "text/plain": [
              "(273, 1)"
            ]
          },
          "metadata": {
            "tags": []
          },
          "execution_count": 136
        }
      ]
    },
    {
      "metadata": {
        "id": "24JhC0N0QBgF",
        "colab_type": "code",
        "outputId": "7e541dcd-0893-46e3-eb13-bc55367ab5ce",
        "colab": {
          "base_uri": "https://localhost:8080/",
          "height": 279
        }
      },
      "cell_type": "code",
      "source": [
        "from matplotlib import pyplot\n",
        "dataset.plot()\n",
        "plt.xlabel('Date')\n",
        "plt.ylabel('Median USA Price')\n",
        "pyplot.show()"
      ],
      "execution_count": 0,
      "outputs": [
        {
          "output_type": "display_data",
          "data": {
            "image/png": "[encoded data removed]",
            "text/plain": [
              "<Figure size 432x288 with 1 Axes>"
            ]
          },
          "metadata": {
            "tags": []
          }
        }
      ]
    },
    {
      "metadata": {
        "id": "WpN3_PuFofhH",
        "colab_type": "text"
      },
      "cell_type": "markdown",
      "source": [
        "### Check stationarity of the data"
      ]
    },
    {
      "metadata": {
        "id": "DHIcZTEcomRK",
        "colab_type": "code",
        "colab": {}
      },
      "cell_type": "code",
      "source": [
        "#Determine rolling statistics\n",
        "rolmean = dataset.rolling(window=12).mean() #window size 12 denotes 12 months, giving rolling mean at yearly level\n",
        "rolstd = dataset.rolling(window=12).std()\n",
        "print(rolmean,rolstd)"
      ],
      "execution_count": 0,
      "outputs": []
    },
    {
      "metadata": {
        "id": "z1ngJbrEo0y8",
        "colab_type": "code",
        "outputId": "3a558a05-f3ce-4d89-ba36-d03b4c5a99e0",
        "colab": {
          "base_uri": "https://localhost:8080/",
          "height": 389
        }
      },
      "cell_type": "code",
      "source": [
        "#Plot rolling statistics\n",
        "orig = plt.plot(dataset, color='blue', label='Original')\n",
        "mean = plt.plot(rolmean, color='red', label='Rolling Mean')\n",
        "std = plt.plot(rolstd, color='black', label='Rolling Std')\n",
        "plt.legend(loc='best')\n",
        "plt.title('Rolling Mean & Standard Deviation')\n",
        "plt.show(block=False)"
      ],
      "execution_count": 0,
      "outputs": [
        {
          "output_type": "display_data",
          "data": {
            "image/png": "[encoded data removed]",
            "text/plain": [
              "<Figure size 720x432 with 1 Axes>"
            ]
          },
          "metadata": {
            "tags": []
          }
        }
      ]
    },
    {
      "metadata": {
        "id": "0acSnmiAk_2Q",
        "colab_type": "code",
        "outputId": "48815d56-2de3-45f7-e717-2717c42f3225",
        "colab": {
          "base_uri": "https://localhost:8080/",
          "height": 441
        }
      },
      "cell_type": "code",
      "source": [
        "#ACF & PACF plots\n",
        "\n",
        "lag_acf = acf(train, nlags=100)\n",
        "lag_pacf = pacf(train, nlags=5, method='ols')\n",
        "\n",
        "#Plot ACF:\n",
        "plt.subplot(121)\n",
        "plt.plot(lag_acf)\n",
        "plt.axhline(y=0, linestyle='--', color='gray')\n",
        "plt.axhline(y=-1.96/np.sqrt(len(train)), linestyle='--', color='gray')\n",
        "plt.axhline(y=1.96/np.sqrt(len(train)), linestyle='--', color='gray')\n",
        "plt.title('Autocorrelation Function')            \n",
        "\n",
        "#Plot PACF\n",
        "plt.subplot(122)\n",
        "plt.plot(lag_pacf)\n",
        "plt.axhline(y=0, linestyle='--', color='gray')\n",
        "plt.axhline(y=-1.96/np.sqrt(len(train)), linestyle='--', color='gray')\n",
        "plt.axhline(y=1.96/np.sqrt(len(train)), linestyle='--', color='gray')\n",
        "plt.title('Partial Autocorrelation Function')\n",
        "            \n",
        "plt.tight_layout() "
      ],
      "execution_count": 0,
      "outputs": [
        {
          "output_type": "display_data",
          "data": {
            "image/png": "[encoded data removed]",
            "text/plain": [
              "<Figure size 720x432 with 2 Axes>"
            ]
          },
          "metadata": {
            "tags": []
          }
        }
      ]
    },
    {
      "metadata": {
        "id": "M7Le7ftRt8rv",
        "colab_type": "code",
        "colab": {}
      },
      "cell_type": "code",
      "source": [
        "X=dataset[\"Median USA\"].values\n",
        "X = X.reshape(-1, 1)\n",
        "train = X[0:218]\n",
        "test = X[218:]"
      ],
      "execution_count": 0,
      "outputs": []
    },
    {
      "metadata": {
        "id": "Q-oHo0sEtKj7",
        "colab_type": "code",
        "outputId": "e3697018-57a4-48fd-f267-7e244c648491",
        "colab": {
          "base_uri": "https://localhost:8080/",
          "height": 105
        }
      },
      "cell_type": "code",
      "source": [
        "model_arima = ARIMA(train,order=(2,2,3))\n",
        "model_arima_fit=model_arima.fit()"
      ],
      "execution_count": 0,
      "outputs": [
        {
          "output_type": "stream",
          "text": [
            "/usr/local/lib/python3.6/dist-packages/statsmodels/tsa/kalmanf/kalmanfilter.py:646: FutureWarning: Conversion of the second argument of issubdtype from `float` to `np.floating` is deprecated. In future, it will be treated as `np.float64 == np.dtype(float).type`.\n",
            "  if issubdtype(paramsdtype, float):\n",
            "/usr/local/lib/python3.6/dist-packages/statsmodels/tsa/kalmanf/kalmanfilter.py:650: FutureWarning: Conversion of the second argument of issubdtype from `complex` to `np.complexfloating` is deprecated. In future, it will be treated as `np.complex128 == np.dtype(complex).type`.\n",
            "  elif issubdtype(paramsdtype, complex):\n"
          ],
          "name": "stderr"
        }
      ]
    },
    {
      "metadata": {
        "id": "pkV2s_1GtntR",
        "colab_type": "code",
        "outputId": "cda07c39-269d-4e60-db17-d31823142fdb",
        "colab": {
          "base_uri": "https://localhost:8080/",
          "height": 309
        }
      },
      "cell_type": "code",
      "source": [
        "predictions = model_arima_fit.forecast(steps=55)[0]\n",
        "predictions"
      ],
      "execution_count": 0,
      "outputs": [
        {
          "output_type": "stream",
          "text": [
            "/usr/local/lib/python3.6/dist-packages/statsmodels/tsa/kalmanf/kalmanfilter.py:577: FutureWarning: Conversion of the second argument of issubdtype from `float` to `np.floating` is deprecated. In future, it will be treated as `np.float64 == np.dtype(float).type`.\n",
            "  if issubdtype(paramsdtype, float):\n"
          ],
          "name": "stderr"
        },
        {
          "output_type": "execute_result",
          "data": {
            "text/plain": [
              "array([155419.65385915, 155842.65774488, 156279.45527281, 156702.90279937,\n",
              "       157139.86174528, 157569.52815093, 158006.00733077, 158440.62662762,\n",
              "       158878.2667259 , 159316.43348418, 159756.24719956, 160197.30844073,\n",
              "       160639.68020007, 161083.42911807, 161528.45877859, 161974.85443916,\n",
              "       162422.55359646, 162871.59706253, 163321.96053802, 163773.6572539 ,\n",
              "       164226.68071999, 164681.0336691 , 165136.71526646, 165593.72550913,\n",
              "       166052.06468737, 166511.73247656, 166972.7291411 , 167435.05449596,\n",
              "       167898.70865783, 168363.69155941, 168830.00323608, 169297.64367129,\n",
              "       169766.61287144, 170236.91083504, 170708.53756156, 171181.49305211,\n",
              "       171655.77730563, 172131.39032292, 172608.33210345, 173086.60264754,\n",
              "       173566.20195501, 174047.13002596, 174529.38686033, 175012.97245816,\n",
              "       175497.88681942, 175984.12994413, 176471.70183229, 176960.60248388,\n",
              "       177450.83189893, 177942.39007741, 178435.27701934, 178929.49272471,\n",
              "       179425.03719353, 179921.91042579, 180420.11242149])"
            ]
          },
          "metadata": {
            "tags": []
          },
          "execution_count": 88
        }
      ]
    },
    {
      "metadata": {
        "id": "2OOvqBDvtp5k",
        "colab_type": "code",
        "outputId": "d17c5376-1dab-45b8-b808-591f706acc96",
        "colab": {
          "base_uri": "https://localhost:8080/",
          "height": 391
        }
      },
      "cell_type": "code",
      "source": [
        "plt.plot(test)\n",
        "plt.plot(predictions,color='red')"
      ],
      "execution_count": 0,
      "outputs": [
        {
          "output_type": "execute_result",
          "data": {
            "text/plain": [
              "[<matplotlib.lines.Line2D at 0x7fb97bef2978>]"
            ]
          },
          "metadata": {
            "tags": []
          },
          "execution_count": 89
        },
        {
          "output_type": "display_data",
          "data": {
            "image/png": "[encoded data removed]",
            "text/plain": [
              "<Figure size 720x432 with 1 Axes>"
            ]
          },
          "metadata": {
            "tags": []
          }
        }
      ]
    },
    {
      "metadata": {
        "id": "M4Tuu5GtZbxX",
        "colab_type": "text"
      },
      "cell_type": "markdown",
      "source": [
        "## Conclusion"
      ]
    },
    {
      "metadata": {
        "id": "EkMEYDEBJXpS",
        "colab_type": "text"
      },
      "cell_type": "markdown",
      "source": [
        "My Times series model didn't fit well to the real data.\n",
        "\n",
        "\n"
      ]
    }
  ]
}